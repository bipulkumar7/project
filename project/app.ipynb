{
 "cells": [
  {
   "cell_type": "code",
   "execution_count": null,
   "id": "2d9d7080",
   "metadata": {},
   "outputs": [
    {
     "name": "stdout",
     "output_type": "stream",
     "text": [
      " * Serving Flask app '__main__' (lazy loading)\n",
      " * Environment: production\n",
      "\u001b[31m   WARNING: This is a development server. Do not use it in a production deployment.\u001b[0m\n",
      "\u001b[2m   Use a production WSGI server instead.\u001b[0m\n",
      " * Debug mode: off\n"
     ]
    },
    {
     "name": "stderr",
     "output_type": "stream",
     "text": [
      " * Running on all addresses.\n",
      "   WARNING: This is a development server. Do not use it in a production deployment.\n",
      " * Running on http://10.0.2.15:5000/ (Press CTRL+C to quit)\n",
      "127.0.0.1 - - [11/Dec/2021 22:47:42] \"GET /home/Bipul HTTP/1.1\" 200 -\n",
      "127.0.0.1 - - [11/Dec/2021 22:48:05] \"GET /home/Bipul HTTP/1.1\" 200 -\n"
     ]
    }
   ],
   "source": [
    "\"\"\"\n",
    "Route variable.\n",
    "\n",
    "http  http://127.0.0.1:5000/home/Bipul\n",
    "HTTP/1.0 200 OK\n",
    "Content-Length: 47\n",
    "Content-Type: text/html; charset=utf-8\n",
    "Date: Sun, 12 Dec 2021 04:47:42 GMT\n",
    "Server: Werkzeug/2.0.2 Python/3.7.3\n",
    "\n",
    "<h1>Hello Bipul, you are on the home page!</h1>\n",
    "\n",
    "\"\"\"\n",
    "\n",
    "from flask import Flask, jsonify\n",
    "app = Flask(__name__)\n",
    "\n",
    "@app.route(\"/\")\n",
    "def index():\n",
    "    return \"<h1>Hello world1<h1>\"\n",
    "\n",
    "\n",
    "@app.route('/home', methods=['POST', 'GET'], defaults={'name': 'Default'})\n",
    "@app.route('/home/<name>', methods=['POST', 'GET'])\n",
    "def home(name):\n",
    "    return '<h1>Hello {}, you are on the home page!</h1>'.format(name)\n",
    "\n",
    "if __name__ == \"__main__\":\n",
    "    app.run(host=\"0.0.0.0\",)\n",
    "\n"
   ]
  },
  {
   "cell_type": "code",
   "execution_count": null,
   "id": "30684a07",
   "metadata": {},
   "outputs": [],
   "source": []
  },
  {
   "cell_type": "code",
   "execution_count": null,
   "id": "388924eb",
   "metadata": {},
   "outputs": [],
   "source": []
  }
 ],
 "metadata": {
  "kernelspec": {
   "display_name": "Python 3 (ipykernel)",
   "language": "python",
   "name": "python3"
  },
  "language_info": {
   "codemirror_mode": {
    "name": "ipython",
    "version": 3
   },
   "file_extension": ".py",
   "mimetype": "text/x-python",
   "name": "python",
   "nbconvert_exporter": "python",
   "pygments_lexer": "ipython3",
   "version": "3.7.3"
  }
 },
 "nbformat": 4,
 "nbformat_minor": 5
}
